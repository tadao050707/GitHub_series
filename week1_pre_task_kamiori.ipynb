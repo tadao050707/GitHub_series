{
 "cells": [
  {
   "cell_type": "markdown",
   "metadata": {},
   "source": [
    "# 【問題1】べき乗の算術演算子を使用した実装\n",
    "### べき乗の算術演算子を使用したプログラムを作ってください。\n",
    "###  雛形として紙を1回折った時の厚さを計算するコードを用意しました。これを43回折った時のコードに書き換えてください。"
   ]
  },
  {
   "cell_type": "code",
   "execution_count": 17,
   "metadata": {},
   "outputs": [
    {
     "name": "stdout",
     "output_type": "stream",
     "text": [
      "厚さ： 703687441.77664メートル\n"
     ]
    }
   ],
   "source": [
    "THICKNESS = 0.00008\n",
    "folded_thickness = THICKNESS * 2**43\n",
    "print(\"厚さ： {}メートル\".format(folded_thickness))"
   ]
  },
  {
   "cell_type": "markdown",
   "metadata": {},
   "source": [
    "# 【問題2】単位の変換\n",
    "### 単位がメートルだと実感が湧きづらいので、◯◯万キロメートル に変換して表示させてください。"
   ]
  },
  {
   "cell_type": "code",
   "execution_count": 18,
   "metadata": {},
   "outputs": [
    {
     "name": "stdout",
     "output_type": "stream",
     "text": [
      "厚さ： 703687.44万メートル\n"
     ]
    }
   ],
   "source": [
    "THICKNESS = 0.00008\n",
    "folded_thickness = THICKNESS * 2**43\n",
    "print(\"厚さ： {:.2f}万メートル\".format(folded_thickness / 1000))"
   ]
  },
  {
   "cell_type": "markdown",
   "metadata": {},
   "source": [
    "# 【問題3】for文を使用して作成\n",
    "### 次に、for文を使用したプログラムを作ってください。"
   ]
  },
  {
   "cell_type": "code",
   "execution_count": 19,
   "metadata": {},
   "outputs": [
    {
     "name": "stdout",
     "output_type": "stream",
     "text": [
      "1回折った時の厚さ : 0.00万メートル\n",
      "2回折った時の厚さ : 0.00万メートル\n",
      "3回折った時の厚さ : 0.00万メートル\n",
      "4回折った時の厚さ : 0.00万メートル\n",
      "5回折った時の厚さ : 0.00万メートル\n",
      "6回折った時の厚さ : 0.00万メートル\n",
      "7回折った時の厚さ : 0.00万メートル\n",
      "8回折った時の厚さ : 0.00万メートル\n",
      "9回折った時の厚さ : 0.00万メートル\n",
      "10回折った時の厚さ : 0.00万メートル\n",
      "11回折った時の厚さ : 0.00万メートル\n",
      "12回折った時の厚さ : 0.00万メートル\n",
      "13回折った時の厚さ : 0.00万メートル\n",
      "14回折った時の厚さ : 0.00万メートル\n",
      "15回折った時の厚さ : 0.00万メートル\n",
      "16回折った時の厚さ : 0.01万メートル\n",
      "17回折った時の厚さ : 0.01万メートル\n",
      "18回折った時の厚さ : 0.02万メートル\n",
      "19回折った時の厚さ : 0.04万メートル\n",
      "20回折った時の厚さ : 0.08万メートル\n",
      "21回折った時の厚さ : 0.17万メートル\n",
      "22回折った時の厚さ : 0.34万メートル\n",
      "23回折った時の厚さ : 0.67万メートル\n",
      "24回折った時の厚さ : 1.34万メートル\n",
      "25回折った時の厚さ : 2.68万メートル\n",
      "26回折った時の厚さ : 5.37万メートル\n",
      "27回折った時の厚さ : 10.74万メートル\n",
      "28回折った時の厚さ : 21.47万メートル\n",
      "29回折った時の厚さ : 42.95万メートル\n",
      "30回折った時の厚さ : 85.90万メートル\n",
      "31回折った時の厚さ : 171.80万メートル\n",
      "32回折った時の厚さ : 343.60万メートル\n",
      "33回折った時の厚さ : 687.19万メートル\n",
      "34回折った時の厚さ : 1374.39万メートル\n",
      "35回折った時の厚さ : 2748.78万メートル\n",
      "36回折った時の厚さ : 5497.56万メートル\n",
      "37回折った時の厚さ : 10995.12万メートル\n",
      "38回折った時の厚さ : 21990.23万メートル\n",
      "39回折った時の厚さ : 43980.47万メートル\n",
      "40回折った時の厚さ : 87960.93万メートル\n",
      "41回折った時の厚さ : 175921.86万メートル\n",
      "42回折った時の厚さ : 351843.72万メートル\n",
      "43回折った時の厚さ : 703687.44万メートル\n"
     ]
    }
   ],
   "source": [
    "THICKNESS = 0.00008\n",
    "\n",
    "for i in range(43):\n",
    "    folded_thickness = THICKNESS * 2\n",
    "    THICKNESS = folded_thickness\n",
    "    print(\"{}回折った時の厚さ : {:.2f}万メートル\".format(i + 1, folded_thickness / 1000))"
   ]
  },
  {
   "cell_type": "markdown",
   "metadata": {},
   "source": [
    "# 【問題4】計算時間の比較\n",
    "### 以上の2つの方法はどちらも正しいですが、コードの良さを比較する際には例えば以下のような点で評価されます。\n",
    "\n",
    "\n",
    "- 実行速度\n",
    "- メモリの使用量\n",
    "- 可読性\n",
    "- 拡張性\n",
    "- 再利用性\n",
    "\n",
    "### 今回は実行速度を比較してみます。\n",
    "\n",
    "### 以下の雛形を使用して、2つの方法の実行時間を出力して、比較してください。\n",
    "### 変数の定義や print 文など、どちらの方法でも使われている部分は除いた範囲の時間を比較してください。"
   ]
  },
  {
   "cell_type": "code",
   "execution_count": 23,
   "metadata": {},
   "outputs": [
    {
     "name": "stdout",
     "output_type": "stream",
     "text": [
      "43回折った時の厚さ : 703687.44万メートル\n",
      "time : 0.00031185150146484375[s]\n",
      "厚さ： 6.189700196426902e+21メートル\n",
      "time : 0.0007648468017578125[s]\n"
     ]
    }
   ],
   "source": [
    "import time\n",
    "THICKNESS = 0.00008\n",
    "start = time.time()\n",
    "\n",
    "for i in range(43):\n",
    "    folded_thickness = THICKNESS * 2\n",
    "    THICKNESS = folded_thickness\n",
    "\n",
    "elapsed_time = time.time() - start\n",
    "\n",
    "print(\"{}回折った時の厚さ : {:.2f}万メートル\".format(i + 1, folded_thickness / 1000))\n",
    "print(\"time : {}[s]\".format(elapsed_time))\n",
    "\n",
    "\n",
    "folded_thickness = THICKNESS * 2**43\n",
    "\n",
    "elapsed_time = time.time() - start\n",
    "print(\"厚さ： {}メートル\".format(folded_thickness))\n",
    "print(\"time : {}[s]\".format(elapsed_time))"
   ]
  },
  {
   "cell_type": "markdown",
   "metadata": {},
   "source": [
    "# 【問題5】リストへの保存\n",
    "### ここまでは43回折った後の最後の値だけを使用していましたが、グラフで可視化するためには過程の値も必要です。\n",
    "### for文を使用したコードに、過程の値合計44個を記録するコードを加えてください。"
   ]
  },
  {
   "cell_type": "code",
   "execution_count": 24,
   "metadata": {},
   "outputs": [
    {
     "name": "stdout",
     "output_type": "stream",
     "text": [
      "折った回数：43回\n"
     ]
    }
   ],
   "source": [
    "THICKNESS = 0.00008\n",
    "thickness_of_paper = []\n",
    "\n",
    "for i in range(43):\n",
    "    folded_thickness = THICKNESS * 2\n",
    "    thickness_of_paper.append(folded_thickness)\n",
    "    THICKNESS = folded_thickness\n",
    "\n",
    "#折った回数を表示する\n",
    "print(\"折った回数：{}回\".format(len(thickness_of_paper)))"
   ]
  },
  {
   "cell_type": "markdown",
   "metadata": {},
   "source": [
    "# 【問題6】折れ線グラフの表示\n",
    "### グラフの描画には Matplotlib という ライブラリ を用います。リストへ記録するコードの後ろで以下の雛形を使用してください。"
   ]
  },
  {
   "cell_type": "code",
   "execution_count": 25,
   "metadata": {},
   "outputs": [
    {
     "data": {
      "image/png": "[encoded data removed]",
      "text/plain": [
       "<Figure size 432x288 with 1 Axes>"
      ]
     },
     "metadata": {
      "needs_background": "light"
     },
     "output_type": "display_data"
    },
    {
     "name": "stdout",
     "output_type": "stream",
     "text": [
      "折った回数：43回\n"
     ]
    }
   ],
   "source": [
    "# pyplotモジュールを使って、Matplotlibの機能を活用する。省略名はplt\n",
    "import matplotlib.pyplot as plt\n",
    "\n",
    "# Matplotlibを使ってインラインで図を表示させる\n",
    "%matplotlib inline\n",
    "\n",
    "THICKNESS = 0.00008\n",
    "thickness_of_paper = []\n",
    "\n",
    "# グラフを表示する。タイトルと軸ラベル名付き。\n",
    "plt.title(\"thickness of folded paper\")\n",
    "plt.xlabel(\"number of folds\")\n",
    "plt.ylabel(\"thickness [m]\")\n",
    "\n",
    "for i in range(43):\n",
    "    folded_thickness = THICKNESS * 2\n",
    "    thickness_of_paper.append(folded_thickness)\n",
    "    plt.plot(thickness_of_paper)\n",
    "    THICKNESS = folded_thickness\n",
    "\n",
    "#プロットした結果を表示する\n",
    "plt.show()\n",
    "\n",
    "#折った回数を表示する\n",
    "print(\"折った回数：{}回\".format(len(thickness_of_paper)))"
   ]
  },
  {
   "cell_type": "markdown",
   "metadata": {},
   "source": [
    "# 【問題7】グラフのカスタマイズ\n",
    "### グラフをより見やすくカスタマイズしてみましょう。カスタマイズしたグラフを最低3種類作成してください。\n",
    "### 例えば以下のように書き換えることで、線の色を赤に変更できます。"
   ]
  },
  {
   "cell_type": "code",
   "execution_count": 26,
   "metadata": {},
   "outputs": [
    {
     "name": "stdout",
     "output_type": "stream",
     "text": [
      "折った回数：43回\n"
     ]
    },
    {
     "data": {
      "image/png": "[encoded data removed]",
      "text/plain": [
       "<Figure size 432x288 with 1 Axes>"
      ]
     },
     "metadata": {
      "needs_background": "light"
     },
     "output_type": "display_data"
    }
   ],
   "source": [
    "# pyplotモジュールを使って、Matplotlibの機能を活用する。省略名はplt\n",
    "import matplotlib.pyplot as plt\n",
    "\n",
    "# Matplotlibを使ってインラインで図を表示させる\n",
    "%matplotlib inline\n",
    "\n",
    "THICKNESS = 0.00008\n",
    "thickness_of_paper = []\n",
    "\n",
    "# グラフを表示する。タイトルと軸ラベル名付き。\n",
    "plt.title(\"thickness of folded paper\")\n",
    "plt.xlabel(\"number of folds\")\n",
    "plt.ylabel(\"thickness [m]\")\n",
    "\n",
    "for i in range(43):\n",
    "    folded_thickness = THICKNESS * 2\n",
    "    thickness_of_paper.append(folded_thickness)\n",
    "    plt.plot(thickness_of_paper)\n",
    "    THICKNESS = folded_thickness\n",
    "\n",
    "plt.plot(thickness_of_paper, color='red', linewidth=4, linestyle='dashed', marker='o') \n",
    "\n",
    "#折った回数を表示する\n",
    "print(\"折った回数：{}回\".format(len(thickness_of_paper)))"
   ]
  },
  {
   "cell_type": "code",
   "execution_count": null,
   "metadata": {},
   "outputs": [],
   "source": []
  }
 ],
 "metadata": {
  "kernelspec": {
   "display_name": "Python 3",
   "language": "python",
   "name": "python3"
  },
  "language_info": {
   "codemirror_mode": {
    "name": "ipython",
    "version": 3
   },
   "file_extension": ".py",
   "mimetype": "text/x-python",
   "name": "python",
   "nbconvert_exporter": "python",
   "pygments_lexer": "ipython3",
   "version": "3.7.2"
  }
 },
 "nbformat": 4,
 "nbformat_minor": 2
}
